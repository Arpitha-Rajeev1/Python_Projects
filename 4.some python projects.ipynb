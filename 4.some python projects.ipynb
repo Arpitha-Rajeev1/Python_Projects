{
 "cells": [
  {
   "cell_type": "code",
   "execution_count": 52,
   "id": "0acb23ed",
   "metadata": {},
   "outputs": [],
   "source": [
    "# pip install pypdf2\n",
    "# Project 1: PDF Merger \n",
    "import PyPDF2\n",
    "merger = PyPDF2.PdfMerger()\n",
    "pdfFiles = [\"sample1.pdf\", \"sample2.pdf\"]\n",
    "for filename in pdfFiles:\n",
    "    pdfFile = open(filename, 'rb')\n",
    "    pdfReader = PyPDF2.PdfReader(pdfFile)\n",
    "    merger.append(pdfReader)\n",
    "pdfFile.close()\n",
    "merger.write('merged.pdf')"
   ]
  },
  {
   "cell_type": "code",
   "execution_count": 12,
   "id": "2a56ef9e",
   "metadata": {},
   "outputs": [
    {
     "name": "stdout",
     "output_type": "stream",
     "text": [
      "Enter what you want to speak: Ich bin Arpitha\n"
     ]
    },
    {
     "data": {
      "text/plain": [
       "1"
      ]
     },
     "execution_count": 12,
     "metadata": {},
     "output_type": "execute_result"
    }
   ],
   "source": [
    "# Project 2: Robo Speaker\n",
    "import win32com.client as wincom\n",
    "\n",
    "speak = wincom.Dispatch(\"SAPI.SpVoice\")\n",
    "x = input(\"Enter what you want to speak: \")\n",
    "speak.Speak(x)"
   ]
  },
  {
   "cell_type": "code",
   "execution_count": 10,
   "id": "f41b59d8",
   "metadata": {},
   "outputs": [
    {
     "name": "stdout",
     "output_type": "stream",
     "text": [
      "kolkata\n"
     ]
    },
    {
     "data": {
      "text/plain": [
       "1"
      ]
     },
     "execution_count": 10,
     "metadata": {},
     "output_type": "execute_result"
    }
   ],
   "source": [
    "# Project 3: Weather App\n",
    "import requests\n",
    "import json\n",
    "import win32com.client as wincom\n",
    "\n",
    "speak = wincom.Dispatch(\"SAPI.SpVoice\")\n",
    "city = input()\n",
    "url = f\"https://api.weatherapi.com/v1/current.json?key=b13989793f184149a91141538230103&q={city}\"\n",
    "r = requests.get(url)\n",
    "# print(r.text)\n",
    "wdic = json.loads(r.text)\n",
    "temp = wdic[\"current\"][\"temp_c\"]\n",
    "speak.Speak(f'The temperature in {city} is {temp} degrees')"
   ]
  },
  {
   "cell_type": "code",
   "execution_count": 8,
   "id": "54803e24",
   "metadata": {},
   "outputs": [
    {
     "data": {
      "text/plain": [
       "True"
      ]
     },
     "execution_count": 8,
     "metadata": {},
     "output_type": "execute_result"
    }
   ],
   "source": [
    "# Project 4: Image Resizer\n",
    "\n",
    "# pip install opencv-python\n",
    "import cv2\n",
    "image = cv2.imread(\"sample.JPEG\", cv2.IMREAD_UNCHANGED)\n",
    "cv2.imshow('title', image)\n",
    "\n",
    "scale_percent = 50\n",
    "width = int(image.shape[1] * scale_percent / 100)\n",
    "height = int(image.shape[0] * scale_percent / 100)\n",
    "\n",
    "dsize = (width, height)\n",
    "\n",
    "output = cv2.resize(image, dsize)\n",
    "\n",
    "cv2.imwrite('new_image.png', output)\n",
    "# cv2.waitkey(0)"
   ]
  },
  {
   "cell_type": "code",
   "execution_count": 2,
   "id": "33abd2a0",
   "metadata": {},
   "outputs": [
    {
     "name": "stdout",
     "output_type": "stream",
     "text": [
      "5\n",
      "z6pd5\n"
     ]
    }
   ],
   "source": [
    "# Project 5: Password Generator\n",
    "import random\n",
    "chars = 'qwertyuiopasdfghjklzxcvbnm1234567890!@#$%^&*()'\n",
    "length = int(input())\n",
    "password = ''\n",
    "\n",
    "for a in range(length):\n",
    "    password += random.choice(chars)\n",
    "    \n",
    "print(password)"
   ]
  },
  {
   "cell_type": "code",
   "execution_count": 3,
   "id": "de488739",
   "metadata": {},
   "outputs": [
    {
     "ename": "ModuleNotFoundError",
     "evalue": "No module named 'face_recognition'",
     "output_type": "error",
     "traceback": [
      "\u001b[1;31m---------------------------------------------------------------------------\u001b[0m",
      "\u001b[1;31mModuleNotFoundError\u001b[0m                       Traceback (most recent call last)",
      "\u001b[1;32m<ipython-input-3-315dd4d2395c>\u001b[0m in \u001b[0;36m<module>\u001b[1;34m\u001b[0m\n\u001b[0;32m      6\u001b[0m \u001b[1;33m\u001b[0m\u001b[0m\n\u001b[0;32m      7\u001b[0m \u001b[1;32mimport\u001b[0m \u001b[0mcv2\u001b[0m\u001b[1;33m\u001b[0m\u001b[1;33m\u001b[0m\u001b[0m\n\u001b[1;32m----> 8\u001b[1;33m \u001b[1;32mimport\u001b[0m \u001b[0mface_recognition\u001b[0m\u001b[1;33m\u001b[0m\u001b[1;33m\u001b[0m\u001b[0m\n\u001b[0m\u001b[0;32m      9\u001b[0m \u001b[1;32mimport\u001b[0m \u001b[0mnumpy\u001b[0m \u001b[1;32mas\u001b[0m \u001b[0mnp\u001b[0m\u001b[1;33m\u001b[0m\u001b[1;33m\u001b[0m\u001b[0m\n\u001b[0;32m     10\u001b[0m \u001b[1;32mimport\u001b[0m \u001b[0mcsv\u001b[0m\u001b[1;33m\u001b[0m\u001b[1;33m\u001b[0m\u001b[0m\n",
      "\u001b[1;31mModuleNotFoundError\u001b[0m: No module named 'face_recognition'"
     ]
    }
   ],
   "source": [
    "# Project 6: Facial Recognition Attendance System\n",
    "\n",
    "# pip install face_recognition - to successfully install this, download Visual Studio Build tools and install it & \n",
    "# install Desktop Development with C++\n",
    "# pip install cmake\n",
    "# pip install opencv-python\n",
    "\n",
    "import cv2\n",
    "import face_recognition\n",
    "import numpy as np\n",
    "import csv\n",
    "from datetime import datetime\n",
    "\n",
    "video_capture = cv2.VideoCapture(0)\n",
    "salman_image = face_recognition.load_image_file(\"salman.jpg\")\n",
    "salman_encoding = face_recognition.face_encodings(salman_image)[0]\n",
    "amir_image = face_recognition.load_image_file(\"amir.jpg\")\n",
    "amir_encoding = face_recognition.face_encodings(amir_image)[0]\n",
    "arpitha_image = face_recognition.load_image_file(\"arpitha.jpg\")\n",
    "arpitha_encoding = face_recognition.face_encodings(arpitha_image)[0]\n",
    "\n",
    "known_face_encodings = [salman_encoding, amir_encoding, arpitha_encoding]\n",
    "known_face_names = [\"Salman\", \"Amir\", \"Arpitha\"]\n",
    "\n",
    "# list of expected students\n",
    "students = known_face_names.copy()\n",
    "\n",
    "face_locations = []\n",
    "face_encodings = []\n",
    "\n",
    "# get the current date and time\n",
    "now = datetime.now()\n",
    "\n",
    "# strftime() method from the datetime module to format the date in the specified format.\n",
    "current_date = now.strftime('%Y-%m-%d')\n",
    "\n",
    "# write to the file, while the \"+\" indicates that the file can also be read.\n",
    "f = open(f\"{current_date}.csv\", \"w+\", newline = \"\")\n",
    "\n",
    "# csv is the module that provides functionality for working with CSV files in Python.\n",
    "# writer() is a function from the csv module that creates a writer object for writing data to a CSV file. It takes a file object\n",
    "# as its argument.\n",
    "lnwriter = csv.writer(f)\n",
    "\n",
    "while True:\n",
    "    _, frame = video_capture.read()\n",
    "    small_frame = cv2.resize(frame, (0,0), fx=0.25, fy=0.25)\n",
    "    rgb_small_frame = cv2.cvtColor(small_frame, cv2.COLOR_BGR2RGB)\n",
    "    \n",
    "    #recognize the faces\n",
    "    face_locations = face_recognition.face_locations(rgb_small_frame)\n",
    "    face_encodings = face_recognition.face_encodings(rgb_small_frame, face_locations)\n",
    "    \n",
    "    for face_encoding in face_encodings:\n",
    "        matches = face_recognition.compare_faces(known_face_encodings, face_encoding)\n",
    "        face_distance = face_recognition.face_distance(known_face_encodings, face_encoding)\n",
    "        best_match_index = np.argmin(face_distance)\n",
    "        \n",
    "        if(matches[best_match_index]):\n",
    "            name = known_face_names[best_match_index]\n",
    "            \n",
    "    # add the text if a person is present\n",
    "    if name in known_face_names:\n",
    "        font = cv2.FONT_HERSHEY_SIMPLEX\n",
    "        bottomLeftCornerOfText = (10, 100)\n",
    "        fontScale = 1.5\n",
    "        fontColor = (255, 0, 0)\n",
    "        thickness = 3\n",
    "        lineType = 2\n",
    "        cv2.putText(frame, name + \" Present\", bottomLeftCornerOfText, font, fontScale, fontColor, thickness, lineType)\n",
    "        \n",
    "        if name in students:\n",
    "            students.remove(name)\n",
    "            current_time = now.strftime(\"%H-%M%S\")\n",
    "            lmwriter.writerow([name, current_time])\n",
    "        \n",
    "    cv2.imshow(\"Attendance\", frame)\n",
    "    if cv2.waitKey(1) & 0xFF == ord(\"q\"):\n",
    "        break\n",
    "        \n",
    "video_capture.release()\n",
    "cv2.destroyAllWindows()\n",
    "f.close()"
   ]
  }
 ],
 "metadata": {
  "kernelspec": {
   "display_name": "Python 3",
   "language": "python",
   "name": "python3"
  },
  "language_info": {
   "codemirror_mode": {
    "name": "ipython",
    "version": 3
   },
   "file_extension": ".py",
   "mimetype": "text/x-python",
   "name": "python",
   "nbconvert_exporter": "python",
   "pygments_lexer": "ipython3",
   "version": "3.8.8"
  }
 },
 "nbformat": 4,
 "nbformat_minor": 5
}
